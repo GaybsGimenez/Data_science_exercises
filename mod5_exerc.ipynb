{
  "nbformat": 4,
  "nbformat_minor": 0,
  "metadata": {
    "colab": {
      "name": "mod5.exerc.ipynb",
      "provenance": [],
      "authorship_tag": "ABX9TyMT9ls+2STwfml+G4Rgfmut",
      "include_colab_link": true
    },
    "kernelspec": {
      "name": "python3",
      "display_name": "Python 3"
    },
    "language_info": {
      "name": "python"
    }
  },
  "cells": [
    {
      "cell_type": "markdown",
      "metadata": {
        "id": "view-in-github",
        "colab_type": "text"
      },
      "source": [
        "<a href=\"https://colab.research.google.com/github/GaybsGimenez/Data_science_exercises/blob/main/mod5_exerc.ipynb\" target=\"_parent\"><img src=\"https://colab.research.google.com/assets/colab-badge.svg\" alt=\"Open In Colab\"/></a>"
      ]
    },
    {
      "cell_type": "markdown",
      "source": [
        "Exercícios\n",
        "0. Preparação do ambiente\n",
        "Neste exercício vamos trabalhar com o arquivo csv com dados de crédito, definido abaixo.\n",
        "Execute cada uma das células de código para escrever os arquivos na sua máquina virtual."
      ],
      "metadata": {
        "id": "7BCL6VDJnH4o"
      }
    },
    {
      "cell_type": "code",
      "execution_count": 1,
      "metadata": {
        "colab": {
          "base_uri": "https://localhost:8080/"
        },
        "id": "Oo3RlAQInFqi",
        "outputId": "45b45650-8091-487b-ccd3-cb402a61c7c4"
      },
      "outputs": [
        {
          "output_type": "stream",
          "name": "stdout",
          "text": [
            "Writing credito.csv\n"
          ]
        }
      ],
      "source": [
        "%%writefile credito.csv\n",
        "id_vendedor,valor_emprestimos,quantidade_emprestimos,data\n",
        "104271,448.0,1,20161208\n",
        "21476,826.7,3,20161208\n",
        "87440,313.6,3,20161208\n",
        "15980,-8008.0,6,20161208\n",
        "215906,2212.0,5,20161208\n",
        "33696,2771.3,2,20161208\n",
        "33893,2240.0,3,20161208\n",
        "214946,-4151.0,18,20161208\n",
        "123974,2021.95,2,20161208\n",
        "225870,4039.0,2,20161208"
      ]
    },
    {
      "cell_type": "markdown",
      "source": [
        "Vamos ler o conteúdo do arquivo em uma lista onde cada elemento é um dicionário representando as linhas do arquivo.\n"
      ],
      "metadata": {
        "id": "H6DHlG6SnSf1"
      }
    },
    {
      "cell_type": "code",
      "source": [
        "emprestimos = []\n",
        "with open(file='./credito.csv', mode='r', encoding='utf8') as fp:\n",
        "  fp.readline() # cabeçalho\n",
        "  linha = fp.readline()\n",
        "  while linha:\n",
        "    linha_emprestimo = {}\n",
        "    linha_elementos = linha.strip().split(sep=',')\n",
        "    linha_emprestimo['id_vendedor'] = linha_elementos[0]\n",
        "    linha_emprestimo['valor_emprestimos'] = linha_elementos[1]\n",
        "    linha_emprestimo['quantidade_emprestimos'] = linha_elementos[2]\n",
        "    linha_emprestimo['data'] = linha_elementos[3]\n",
        "    emprestimos.append(linha_emprestimo)\n",
        "    linha = fp.readline()"
      ],
      "metadata": {
        "id": "pMF_yM6LnUpE"
      },
      "execution_count": 2,
      "outputs": []
    },
    {
      "cell_type": "code",
      "source": [
        "\n",
        "for emprestimo in emprestimos:\n",
        " print(emprestimo)\n"
      ],
      "metadata": {
        "colab": {
          "base_uri": "https://localhost:8080/"
        },
        "id": "La_gE4QPnr1L",
        "outputId": "1ceeccaf-9a51-414e-90fb-0e141686ab02"
      },
      "execution_count": 3,
      "outputs": [
        {
          "output_type": "stream",
          "name": "stdout",
          "text": [
            "{'id_vendedor': '104271', 'valor_emprestimos': '448.0', 'quantidade_emprestimos': '1', 'data': '20161208'}\n",
            "{'id_vendedor': '21476', 'valor_emprestimos': '826.7', 'quantidade_emprestimos': '3', 'data': '20161208'}\n",
            "{'id_vendedor': '87440', 'valor_emprestimos': '313.6', 'quantidade_emprestimos': '3', 'data': '20161208'}\n",
            "{'id_vendedor': '15980', 'valor_emprestimos': '-8008.0', 'quantidade_emprestimos': '6', 'data': '20161208'}\n",
            "{'id_vendedor': '215906', 'valor_emprestimos': '2212.0', 'quantidade_emprestimos': '5', 'data': '20161208'}\n",
            "{'id_vendedor': '33696', 'valor_emprestimos': '2771.3', 'quantidade_emprestimos': '2', 'data': '20161208'}\n",
            "{'id_vendedor': '33893', 'valor_emprestimos': '2240.0', 'quantidade_emprestimos': '3', 'data': '20161208'}\n",
            "{'id_vendedor': '214946', 'valor_emprestimos': '-4151.0', 'quantidade_emprestimos': '18', 'data': '20161208'}\n",
            "{'id_vendedor': '123974', 'valor_emprestimos': '2021.95', 'quantidade_emprestimos': '2', 'data': '20161208'}\n",
            "{'id_vendedor': '225870', 'valor_emprestimos': '4039.0', 'quantidade_emprestimos': '2', 'data': '20161208'}\n"
          ]
        }
      ]
    },
    {
      "cell_type": "markdown",
      "source": [
        "1. Função map\n",
        "Aplique a função map na lista de emprestimos para extrair os valores da chave \n",
        "valor_emprestimos na lista valor_emprestimos_lista . Faça também a conversão\n",
        "de str para float .\n"
      ],
      "metadata": {
        "id": "mPQkub2koFRm"
      }
    },
    {
      "cell_type": "code",
      "source": [
        "valor_emprestimos_lista = map(lambda valor: float(valor['valor_emprestimos']), emprestimos)\n",
        "print(list(valor_emprestimos_lista)) \n"
      ],
      "metadata": {
        "colab": {
          "base_uri": "https://localhost:8080/"
        },
        "id": "xtLiXuqooGHS",
        "outputId": "b7783cc6-6a59-4b88-b9b3-ddeaf3f0c060"
      },
      "execution_count": 44,
      "outputs": [
        {
          "output_type": "stream",
          "name": "stdout",
          "text": [
            "[448.0, 826.7, 313.6, -8008.0, 2212.0, 2771.3, 2240.0, -4151.0, 2021.95, 4039.0]\n"
          ]
        }
      ]
    },
    {
      "cell_type": "markdown",
      "source": [
        "2. Função filter\n",
        "Aplique a função filter na lista de valor_emprestimos_lista para filtrar apenas os valores maiores que zero (os valores negativas são erros na base de dados). Salve os valores na lista valor_emprestimos_lista_filtrada ."
      ],
      "metadata": {
        "id": "4fLWgADxyZAe"
      }
    },
    {
      "cell_type": "code",
      "source": [
        "valor_emprestimos_lista_filtrada = filter(lambda num:  num > 0, valor_emprestimos_lista)\n",
        "print(list(valor_emprestimos_lista_filtrada))"
      ],
      "metadata": {
        "colab": {
          "base_uri": "https://localhost:8080/"
        },
        "id": "-0LD90LNyeOi",
        "outputId": "2da0c3ff-07e8-4a03-95bf-6a208848f4e3"
      },
      "execution_count": 65,
      "outputs": [
        {
          "output_type": "stream",
          "name": "stdout",
          "text": [
            "[448.0, 826.7, 313.6, 2212.0, 2771.3, 2240.0, 2021.95, 4039.0]\n"
          ]
        }
      ]
    },
    {
      "cell_type": "code",
      "source": [
        "def maior_que_zero(num):\n",
        "    if num > 0:\n",
        "        return True\n",
        "    else:\n",
        "        return False\n",
        "\n",
        "valor_emprestimos_lista_filtrada = filter(maior_que_zero, valor_emprestimos_lista)\n",
        "print(list(valor_emprestimos_lista_filtrada))\n"
      ],
      "metadata": {
        "colab": {
          "base_uri": "https://localhost:8080/"
        },
        "id": "3oQXRxD73LvH",
        "outputId": "cea90ec8-a2f9-4804-deb1-c81b439f4cc5"
      },
      "execution_count": 169,
      "outputs": [
        {
          "output_type": "stream",
          "name": "stdout",
          "text": [
            "[448.0, 826.7, 313.6, 2212.0, 2771.3, 2240.0, 2021.95, 4039.0]\n"
          ]
        }
      ]
    },
    {
      "cell_type": "markdown",
      "source": [
        "3. Função reduce\n",
        "Com a nossa lista de valores de emprestimo pronta, vamos extrair algumas métricas. \n",
        "\n",
        "3.1. Função reduce para extrair a soma\n",
        "Aplique a função reduce para somar os elementos da lista \n",
        "valor_emprestimos_lista_filtrada na variavel soma_valor_emprestimos "
      ],
      "metadata": {
        "id": "CcNHvGA88ujA"
      }
    },
    {
      "cell_type": "code",
      "source": [
        "valor_emprestimos_lista_filtrada = [448.0, 826.7, 313.6, 2212.0, 2771.3, 2240.0, 2021.95, 4039.0]\n",
        "soma_valor_emprestimos = sum(n for n in valor_emprestimos_lista_filtrada)\n",
        "\n",
        "print(soma_valor_emprestimos)\n",
        "\n"
      ],
      "metadata": {
        "colab": {
          "base_uri": "https://localhost:8080/"
        },
        "id": "T_sAYOq7zDqX",
        "outputId": "5e705ba6-ef1f-4ef6-fb07-ee59f6579ee0"
      },
      "execution_count": 88,
      "outputs": [
        {
          "output_type": "stream",
          "name": "stdout",
          "text": [
            "14872.550000000001\n"
          ]
        }
      ]
    },
    {
      "cell_type": "code",
      "source": [
        "from functools import reduce  \n",
        "\n",
        "soma_valor_emprestimo = reduce(lambda x,y: x+y, valor_emprestimos_lista_filtrada)\n",
        "print(soma_valor_emprestimo)\n",
        "\n"
      ],
      "metadata": {
        "colab": {
          "base_uri": "https://localhost:8080/"
        },
        "id": "ckRg_yoMCgs7",
        "outputId": "8e76f22b-0a20-4f36-c576-cb4db1c53591"
      },
      "execution_count": 89,
      "outputs": [
        {
          "output_type": "stream",
          "name": "stdout",
          "text": [
            "14872.550000000001\n"
          ]
        }
      ]
    },
    {
      "cell_type": "markdown",
      "source": [
        "3.2. Função reduce para extrair a media aritimética\n",
        "\n",
        "Aplique a função reduce para extrair a média aritimética (mais informações aqui) dos elementos da lista valor_emprestimos_lista_filtrada na variavel \n",
        "media_valor_emprestimos ."
      ],
      "metadata": {
        "id": "iOutGhcgDT_U"
      }
    },
    {
      "cell_type": "code",
      "source": [
        "media_valor_emprestimos = sum(valor_emprestimos_lista_filtrada)\n",
        "print(media_valor_emprestimos)\n",
        "\n",
        "#ACHEI MUITO MAIS SIMPLES FAZER PELO MÉTODO SUM()"
      ],
      "metadata": {
        "colab": {
          "base_uri": "https://localhost:8080/"
        },
        "id": "sTXUBJbuDabk",
        "outputId": "cac235ed-9b9b-47f5-c05a-a5d94ba06d99"
      },
      "execution_count": 186,
      "outputs": [
        {
          "output_type": "stream",
          "name": "stdout",
          "text": [
            "14872.550000000001\n"
          ]
        }
      ]
    },
    {
      "cell_type": "code",
      "source": [
        "valor_emprestimos_lista_filtrada = [448.0, 826.7, 313.6, 2212.0, 2771.3, 2240.0, 2021.95, 4039.0]\n",
        "\n",
        "soma_valor_emprestimo = reduce(lambda x,y: x+y, valor_emprestimos_lista_filtrada)\n",
        "print(soma_valor_emprestimo)\n"
      ],
      "metadata": {
        "colab": {
          "base_uri": "https://localhost:8080/"
        },
        "id": "AVPAMODAGZoj",
        "outputId": "43ef3cbb-7476-4c4c-c323-17bd60f4311b"
      },
      "execution_count": 187,
      "outputs": [
        {
          "output_type": "stream",
          "name": "stdout",
          "text": [
            "14872.550000000001\n"
          ]
        }
      ]
    },
    {
      "cell_type": "markdown",
      "source": [
        "3.3. (Desafio) Função reduce para extrair o desvio padrão\n",
        "\n",
        "Aplique a função reduce para extrair a média aritimética dos elementos da lista valor_emprestimos_lista_filtrada na variavel \n",
        "desvio_padrao_valor_emprestimos ."
      ],
      "metadata": {
        "id": "Y5YfyYbfIEE4"
      }
    },
    {
      "cell_type": "code",
      "source": [
        "#calcular media\n",
        "media_desvio = reduce(lambda x,y: x+y, valor_emprestimos_lista_filtrada) / len(valor_emprestimos_lista_filtrada) \n",
        "print(media_desvio)"
      ],
      "metadata": {
        "colab": {
          "base_uri": "https://localhost:8080/"
        },
        "id": "SJhq8ilLIJMv",
        "outputId": "0c69577a-6bf6-429f-cb9f-a2e9e1cc2579"
      },
      "execution_count": 199,
      "outputs": [
        {
          "output_type": "stream",
          "name": "stdout",
          "text": [
            "1859.0687500000001\n"
          ]
        }
      ]
    },
    {
      "cell_type": "code",
      "source": [
        "#Desvio padrão é a raiz quadrada da variância\n",
        "variancia = np.var(valor_emprestimos_lista_filtrada)\n",
        "print(variancia)\n"
      ],
      "metadata": {
        "colab": {
          "base_uri": "https://localhost:8080/"
        },
        "id": "Le9F1t2JmBby",
        "outputId": "ff7ce4da-f7ce-4dd5-9085-c1e12c4b6f83"
      },
      "execution_count": 209,
      "outputs": [
        {
          "output_type": "stream",
          "name": "stdout",
          "text": [
            "1415729.9255859377\n"
          ]
        }
      ]
    },
    {
      "cell_type": "code",
      "source": [
        "import math \n",
        "\n",
        "raiz_unidade = []\n",
        "\n",
        "for i in valor_emprestimos_lista_filtrada:\n",
        "    raiz_unidade.append(math.sqrt(i))  #calcular raiz quadrada\n",
        "print(raiz_unidade)"
      ],
      "metadata": {
        "colab": {
          "base_uri": "https://localhost:8080/"
        },
        "id": "3By9aG66jmy7",
        "outputId": "efc71442-0b21-4b4c-9db1-e4dad301a6cb"
      },
      "execution_count": 210,
      "outputs": [
        {
          "output_type": "stream",
          "name": "stdout",
          "text": [
            "[21.166010488516726, 28.75239120490677, 17.708754896942924, 47.031904065219386, 52.64313820432821, 47.32863826479693, 44.966098340861194, 63.55312738174259]\n"
          ]
        }
      ]
    },
    {
      "cell_type": "code",
      "source": [
        "desvio_padrao_valor_emprestimos = reduce(lambda x,y: x+y, raiz_unidade) / len(valor_emprestimos_lista_filtrada)\n",
        "print(desvio_padrao_valor_emprestimos)"
      ],
      "metadata": {
        "colab": {
          "base_uri": "https://localhost:8080/"
        },
        "id": "-cSFc50JnNNF",
        "outputId": "70c9e07a-1f3d-4ced-ae73-fd59fdff9a65"
      },
      "execution_count": 212,
      "outputs": [
        {
          "output_type": "stream",
          "name": "stdout",
          "text": [
            "40.39375785591434\n"
          ]
        }
      ]
    }
  ]
}