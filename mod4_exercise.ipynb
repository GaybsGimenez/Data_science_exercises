{
  "nbformat": 4,
  "nbformat_minor": 0,
  "metadata": {
    "colab": {
      "name": "modulo4.ipynb",
      "provenance": [],
      "authorship_tag": "ABX9TyPhye/TI3nIaAK3To6gCEp7",
      "include_colab_link": true
    },
    "kernelspec": {
      "name": "python3",
      "display_name": "Python 3"
    },
    "language_info": {
      "name": "python"
    }
  },
  "cells": [
    {
      "cell_type": "markdown",
      "metadata": {
        "id": "view-in-github",
        "colab_type": "text"
      },
      "source": [
        "<a href=\"https://colab.research.google.com/github/GaybsGimenez/Dat_science_exercises/blob/main/modulo4.ipynb\" target=\"_parent\"><img src=\"https://colab.research.google.com/assets/colab-badge.svg\" alt=\"Open In Colab\"/></a>"
      ]
    },
    {
      "cell_type": "markdown",
      "metadata": {
        "id": "xa4uPouaVJBl"
      },
      "source": [
        "leitura"
      ]
    },
    {
      "cell_type": "code",
      "metadata": {
        "colab": {
          "base_uri": "https://localhost:8080/"
        },
        "id": "1MFsG0-lbR4q",
        "outputId": "b9d9f57a-47de-4095-c6ea-3b65daa38bb1"
      },
      "source": [
        "%%writefile banco.csv\n",
        "age,job,marital,education,default,balance,housing,loan\n",
        "30,unemployed,married,primary,no,1787,no,no\n",
        "33,services,married,secondary,no,4789,yes,yes\n",
        "35,management,single,tertiary,no,1350,yes,no\n",
        "30,management,married,tertiary,no,1476,yes,yes\n",
        "59,blue-collar,married,secondary,no,0,yes,no\n",
        "35,management,single,tertiary,no,747,no,no\n",
        "36,self-employed,married,tertiary,no,307,yes,no\n",
        "39,technician,married,secondary,no,147,yes,no\n",
        "41,entrepreneur,married,tertiary,no,221,yes,no\n",
        "43,services,married,primary,no,-88,yes,yes"
      ],
      "execution_count": null,
      "outputs": [
        {
          "output_type": "stream",
          "name": "stdout",
          "text": [
            "Overwriting banco.csv\n"
          ]
        }
      ]
    },
    {
      "cell_type": "markdown",
      "metadata": {
        "id": "ljFIwtiHdPYn"
      },
      "source": [
        "**with/open: comando para ler arquivos**\n",
        "\n",
        "with open `(file='<caminho do arquivo>', mode='<modo de leitura>', encoding='<decodificador>') as <apelidos>:`\n",
        "  bloco de código"
      ]
    },
    {
      "cell_type": "code",
      "metadata": {
        "colab": {
          "base_uri": "https://localhost:8080/"
        },
        "id": "P8_WZoRjdJkA",
        "outputId": "1848fb7f-2b81-4172-c0cf-5e234f7abbd1"
      },
      "source": [
        "conteudo = None #dado que representa o vazil - variável vazia\n",
        "\n",
        "with open(file='./banco.csv', mode='r', encoding='utf8') as arquivo:\n",
        "  conteudo = arquivo.read()\n",
        "print(conteudo)"
      ],
      "execution_count": null,
      "outputs": [
        {
          "output_type": "stream",
          "name": "stdout",
          "text": [
            "age,job,marital,education,default,balance,housing,loan\n",
            "30,unemployed,married,primary,no,1787,no,no\n",
            "33,services,married,secondary,no,4789,yes,yes\n",
            "35,management,single,tertiary,no,1350,yes,no\n",
            "30,management,married,tertiary,no,1476,yes,yes\n",
            "59,blue-collar,married,secondary,no,0,yes,no\n",
            "35,management,single,tertiary,no,747,no,no\n",
            "36,self-employed,married,tertiary,no,307,yes,no\n",
            "39,technician,married,secondary,no,147,yes,no\n",
            "41,entrepreneur,married,tertiary,no,221,yes,no\n",
            "43,services,married,primary,no,-88,yes,yes\n"
          ]
        }
      ]
    },
    {
      "cell_type": "markdown",
      "metadata": {
        "id": "45QyMf0MCwZc"
      },
      "source": [
        "**READ: LER TODO o conteudo O ARQUIVO **"
      ]
    },
    {
      "cell_type": "code",
      "metadata": {
        "colab": {
          "base_uri": "https://localhost:8080/"
        },
        "id": "5ZAOgfURCzxC",
        "outputId": "1077517b-1c2b-4a8d-b48a-4c87981eecfe"
      },
      "source": [
        "conteudo = None\n",
        "with open (file='./banco.csv', mode='r', encoding='utf8') as arquivo:\n",
        "  conteudo = arquivo.read()\n",
        "\n",
        "print(conteudo)"
      ],
      "execution_count": null,
      "outputs": [
        {
          "output_type": "stream",
          "name": "stdout",
          "text": [
            "age,job,marital,education,default,balance,housing,loan\n",
            "30,unemployed,married,primary,no,1787,no,no\n",
            "33,services,married,secondary,no,4789,yes,yes\n",
            "35,management,single,tertiary,no,1350,yes,no\n",
            "30,management,married,tertiary,no,1476,yes,yes\n",
            "59,blue-collar,married,secondary,no,0,yes,no\n",
            "35,management,single,tertiary,no,747,no,no\n",
            "36,self-employed,married,tertiary,no,307,yes,no\n",
            "39,technician,married,secondary,no,147,yes,no\n",
            "41,entrepreneur,married,tertiary,no,221,yes,no\n",
            "43,services,married,primary,no,-88,yes,yes\n"
          ]
        }
      ]
    },
    {
      "cell_type": "markdown",
      "metadata": {
        "id": "l6ZFB7rvED30"
      },
      "source": [
        "READLINE: COMANDO PARA LER O ARQUIVO, UMA LINHA POR VEZ"
      ]
    },
    {
      "cell_type": "code",
      "metadata": {
        "colab": {
          "base_uri": "https://localhost:8080/"
        },
        "id": "oPqE0UyYEPnD",
        "outputId": "8a9573a9-912d-4ebc-ae1a-2ce1b4265ab8"
      },
      "source": [
        "conteudo =[]\n",
        "\n",
        "with open (file='./banco.csv', mode='r', encoding='utf8') as arquivo:\n",
        "  linha = arquivo.read() #lê a primeira linha\n",
        "  while linha: \n",
        "    conteudo.append(linha)\n",
        "    linha = arquivo.readline() # lê uma nova linha, se a linha nao existir, salva o valor None.\n",
        "\n",
        "print(conteudo)"
      ],
      "execution_count": null,
      "outputs": [
        {
          "output_type": "stream",
          "name": "stdout",
          "text": [
            "['age,job,marital,education,default,balance,housing,loan\\n30,unemployed,married,primary,no,1787,no,no\\n33,services,married,secondary,no,4789,yes,yes\\n35,management,single,tertiary,no,1350,yes,no\\n30,management,married,tertiary,no,1476,yes,yes\\n59,blue-collar,married,secondary,no,0,yes,no\\n35,management,single,tertiary,no,747,no,no\\n36,self-employed,married,tertiary,no,307,yes,no\\n39,technician,married,secondary,no,147,yes,no\\n41,entrepreneur,married,tertiary,no,221,yes,no\\n43,services,married,primary,no,-88,yes,yes']\n"
          ]
        }
      ]
    },
    {
      "cell_type": "code",
      "metadata": {
        "colab": {
          "base_uri": "https://localhost:8080/"
        },
        "id": "Lc14DYoQLeBe",
        "outputId": "9e8fd1ba-1d54-440e-a880-afbc4459c352"
      },
      "source": [
        " for linha in conteudo:\n",
        "      print(linha)"
      ],
      "execution_count": null,
      "outputs": [
        {
          "output_type": "stream",
          "name": "stdout",
          "text": [
            "age,job,marital,education,default,balance,housing,loan\n",
            "30,unemployed,married,primary,no,1787,no,no\n",
            "33,services,married,secondary,no,4789,yes,yes\n",
            "35,management,single,tertiary,no,1350,yes,no\n",
            "30,management,married,tertiary,no,1476,yes,yes\n",
            "59,blue-collar,married,secondary,no,0,yes,no\n",
            "35,management,single,tertiary,no,747,no,no\n",
            "36,self-employed,married,tertiary,no,307,yes,no\n",
            "39,technician,married,secondary,no,147,yes,no\n",
            "41,entrepreneur,married,tertiary,no,221,yes,no\n",
            "43,services,married,primary,no,-88,yes,yes\n"
          ]
        }
      ]
    },
    {
      "cell_type": "markdown",
      "metadata": {
        "id": "rX_7hURtLq6U"
      },
      "source": [
        "**EXTRAIR APENAS A PRIMEIRA COLUNA**"
      ]
    },
    {
      "cell_type": "code",
      "metadata": {
        "colab": {
          "base_uri": "https://localhost:8080/"
        },
        "id": "M3Ow0WvyLua-",
        "outputId": "81f7fec7-7612-4bfd-afe9-867c61eaad1f"
      },
      "source": [
        "idades = []\n",
        "\n",
        "with open(file='./banco.csv', mode='r', encoding='utf8') as arquivo:\n",
        "  linha = arquivo.readline() #lê o cabeçalho\n",
        "  linha = arquivo.readline() #lê a primeira linha de informação \n",
        "  while linha:\n",
        "    linha_separada = linha.split(sep=',') #quebra a str nas virgulas e salva os resultados em uma lista\n",
        "    idade = linha_separada[0] #seleciona o primeiro elemento da lista\n",
        "    idade = int(idade) #converte o valor de str para integrar (inteiro)\n",
        "    idades.append(idade) #salva o valor na linha de idades\n",
        "    linha = arquivo.readline() #lê uma nova linha, se alinha não existir, salva o valor None\n",
        "\n",
        "print(idades)"
      ],
      "execution_count": null,
      "outputs": [
        {
          "output_type": "stream",
          "name": "stdout",
          "text": [
            "[30, 33, 35, 30, 59, 35, 36, 39, 41, 43]\n"
          ]
        }
      ]
    },
    {
      "cell_type": "markdown",
      "metadata": {
        "id": "yqNAx1dkNuvP"
      },
      "source": [
        "**OS MODOS DE LEITURA SÃO:**\n",
        "\n",
        "\n",
        "\n",
        "1.   r: abrir o arquivo para leitura (padrão)\n",
        "2.   w: abri o arquivo para escrita (subescreve o arquivo original)\n",
        "3.   a: abri o arquivo para acrescentar (nao subescreve o arquivo original)\n",
        "\n",
        "\n",
        "\n",
        "\n",
        "\n"
      ]
    },
    {
      "cell_type": "markdown",
      "metadata": {
        "id": "MZpUlwgs0RRT"
      },
      "source": [
        "**WRITE**\n",
        "\n",
        "comando para escrever em um arquivo, se o arquivo não existir, ele será criado."
      ]
    },
    {
      "cell_type": "markdown",
      "metadata": {
        "id": "KyxDNaFp1btb"
      },
      "source": [
        "**modo de escrita(w)**"
      ]
    },
    {
      "cell_type": "code",
      "metadata": {
        "id": "rHwCnKDC0iKN"
      },
      "source": [
        "with open(file='idades.csv', mode='w', encoding='utf8') as fp: #fp é um apelido (padrão) forma tecnica \"apelidar\" o arquivo\n",
        "  linha = 'idade' + '/n'\n",
        "  fp.write(linha)\n",
        "  for idade in idades:\n",
        "    linha = str(idade) + '/n'\n",
        "    fp.write(linha)"
      ],
      "execution_count": null,
      "outputs": []
    },
    {
      "cell_type": "markdown",
      "metadata": {
        "id": "jzPBkBAV2aPD"
      },
      "source": [
        "**modo de acrescimo (a)**"
      ]
    },
    {
      "cell_type": "code",
      "metadata": {
        "id": "lMLK4_wb9et-"
      },
      "source": [
        "with open(file='idades.csv', mode='a', encoding='utf8') as fp:\n",
        "  for idade in idades:\n",
        "    linha = str(idade + 100) + '/n'\n",
        "    fp.write(linha)\n",
        "   "
      ],
      "execution_count": null,
      "outputs": []
    },
    {
      "cell_type": "markdown",
      "metadata": {
        "id": "TdDvVIa3AOB0"
      },
      "source": [
        "**MUDAR DE .TXT PARA .CSV**"
      ]
    },
    {
      "cell_type": "code",
      "metadata": {
        "colab": {
          "base_uri": "https://localhost:8080/"
        },
        "id": "hHrwuRdGAbCu",
        "outputId": "ad4af292-c5ac-4e42-c534-826c357a576a"
      },
      "source": [
        "%%writefile banco.txt\n",
        "age,job,marital,education,default,balance,housing,loan\n",
        "30,unemployed,married,primary,no,1787,no,no\n",
        "33,services,married,secondary,no,4789,yes,yes\n",
        "35,management,single,tertiary,no,1350,yes,no\n",
        "30,management,married,tertiary,no,1476,yes,yes\n",
        "59,blue-collar,married,secondary,no,0,yes,no\n",
        "35,management,single,tertiary,no,747,no,no\n",
        "36,self-employed,married,tertiary,no,307,yes,no\n",
        "39,technician,married,secondary,no,147,yes,no\n",
        "41,entrepreneur,married,tertiary,no,221,yes,no\n",
        "43,services,married,primary,no,-88,yes,yes"
      ],
      "execution_count": null,
      "outputs": [
        {
          "output_type": "stream",
          "name": "stdout",
          "text": [
            "Writing banco.txt\n"
          ]
        }
      ]
    },
    {
      "cell_type": "code",
      "metadata": {
        "id": "YMfdFkjIATJU"
      },
      "source": [
        "with open(file='./banco.txt', mode='r', encoding='utf8') as leitura:\n",
        "  with open(file='./banco.csv', mode='w', encoding='utf8') as escrita:\n",
        "    linha = leitura.readline()\n",
        "    while linha:\n",
        "      escrita.write(linha)\n",
        "      linha = leitura.read()"
      ],
      "execution_count": null,
      "outputs": []
    },
    {
      "cell_type": "markdown",
      "metadata": {
        "id": "z9-eSJAc_5-Z"
      },
      "source": [
        "**FUNÇÕES**"
      ]
    },
    {
      "cell_type": "markdown",
      "metadata": {
        "id": "lD2z9SCxBB5B"
      },
      "source": [
        "# MOTIVAÇÃO\n",
        "\n",
        "*Você trabalha na bolsa de valores e precisa simular o retorno de um investimento para diversos cenários*"
      ]
    },
    {
      "cell_type": "code",
      "metadata": {
        "colab": {
          "base_uri": "https://localhost:8080/"
        },
        "id": "LJg5DN0zBSEP",
        "outputId": "6741c7a8-ea3b-419d-9264-11cc99f32326"
      },
      "source": [
        "valor_inicial, taxa_juros_anual, anos = 1000.00, 0.05, 10\n",
        "\n",
        "valor_final = valor_inicial\n",
        "for ano in range(1, anos+1):\n",
        "  valor_final = valor_final * (1 + taxa_juros_anual)\n",
        "valor_final = round(valor_final, 2)\n",
        "print(f'Para um valor inicial de R$ {valor_inicial} e uma taxa de juros anual de {taxa_juros_anual}, em {anos} anos, você terá um acumulado de R${valor_final}')\n",
        "\n",
        "valor_inicial, taxa_juros_anual, anos = 1020.00, 0.03, 10\n",
        "\n",
        "valor_inicial = valor_final\n",
        "for ano in range(1, anos+1):\n",
        "  valor_final = valor_final * (1 + taxa_juros_anual)\n",
        "valor_final = round(valor_final, 2)\n",
        "print(f'Para um valor inicial de R$ {valor_inicial} e uma taxa de juros anual de {taxa_juros_anual}, em {anos} anos, você terá um acumulado de R${valor_final}')"
      ],
      "execution_count": null,
      "outputs": [
        {
          "output_type": "stream",
          "name": "stdout",
          "text": [
            "Para um valor inicial de R$ 1000.0 e uma taxa de juros anual de 0.05, em 10 anos, você terá um acumulado de R$1628.89\n",
            "Para um valor inicial de R$ 1628.89 e uma taxa de juros anual de 0.03, em 10 anos, você terá um acumulado de R$2189.09\n"
          ]
        }
      ]
    },
    {
      "cell_type": "markdown",
      "metadata": {
        "id": "_deziNkaK2-u"
      },
      "source": [
        "**Definição**: um bloco de código que só é executado quando chamado.\n",
        "\n",
        "```\n",
        "def <nome>(<param 1>, <param2>, ...) :\n",
        "  bloco de código\n",
        "  return <valor de retorno>\n",
        "\n",
        "```\n",
        "\n",
        "\n"
      ]
    },
    {
      "cell_type": "code",
      "metadata": {
        "id": "jIWRtSvjK91r"
      },
      "source": [
        "def imprime(mensagem: str):\n",
        "  print(mensagem)"
      ],
      "execution_count": null,
      "outputs": []
    },
    {
      "cell_type": "code",
      "metadata": {
        "id": "N6iKEpIQkjld"
      },
      "source": [
        "texto = 'Fala pessoal, meu nome é Gabriela Gimenez'"
      ],
      "execution_count": null,
      "outputs": []
    },
    {
      "cell_type": "code",
      "metadata": {
        "colab": {
          "base_uri": "https://localhost:8080/"
        },
        "id": "XUl9zT4RkqSb",
        "outputId": "dbfba6e4-5027-4cf7-d33f-42ac723ca78f"
      },
      "source": [
        "imprime(mensagem=texto)"
      ],
      "execution_count": null,
      "outputs": [
        {
          "output_type": "stream",
          "name": "stdout",
          "text": [
            "Fala pessoal, meu nome é Gabriela Gimenez\n"
          ]
        }
      ]
    },
    {
      "cell_type": "markdown",
      "metadata": {
        "id": "zlsZ4dBGk3R0"
      },
      "source": [
        "# RETORNO\n",
        "\n",
        "Toda função SEMPRE retorna um valor, se não tiver especificado, ela retorna o valor nulo: None"
      ]
    },
    {
      "cell_type": "code",
      "metadata": {
        "id": "UhiaeM-tlLHL"
      },
      "source": [
        "def maiusculo(texto) -> str:\n",
        "  texto_maiusculo = texto.upper() #upper pega os elementos e deixa em caixa alta (maiusculo)\n",
        "  return texto_maiusculo \n",
        "  #se omitir o retorno, o python retorna o valor None."
      ],
      "execution_count": null,
      "outputs": []
    },
    {
      "cell_type": "code",
      "metadata": {
        "colab": {
          "base_uri": "https://localhost:8080/"
        },
        "id": "492EJjnhlYir",
        "outputId": "44b5cb2e-cb0c-486d-b94b-16263b45419c"
      },
      "source": [
        "nome = 'Gabriela Gimenez'\n",
        "print(nome)\n",
        "\n",
        "nome_maiusculo = maiusculo(texto=nome)\n",
        "print(nome_maiusculo)"
      ],
      "execution_count": null,
      "outputs": [
        {
          "output_type": "stream",
          "name": "stdout",
          "text": [
            "Gabriela Gimenez\n",
            "GABRIELA GIMENEZ\n"
          ]
        }
      ]
    },
    {
      "cell_type": "code",
      "metadata": {
        "id": "mNtruselmbJs"
      },
      "source": [
        "def extrair_usuario_email_provedor(email) -> (str, str):\n",
        "  email_separado = email.split(sep='@')\n",
        "  usuario = email_separado[0]\n",
        "  provedor = email_separado[1]\n",
        "  return usuario, provedor"
      ],
      "execution_count": null,
      "outputs": []
    },
    {
      "cell_type": "code",
      "metadata": {
        "colab": {
          "base_uri": "https://localhost:8080/"
        },
        "id": "KTy-N8M8nC4s",
        "outputId": "cd46bd28-ff2a-4fb7-f3fd-a238998a4ae8"
      },
      "source": [
        "email = 'gimenez.g.gabriela@gmail.com'\n",
        "usuario, provedor = extrair_usuario_email_provedor(email=email)\n",
        "print(usuario)\n",
        "print(provedor)"
      ],
      "execution_count": null,
      "outputs": [
        {
          "output_type": "stream",
          "name": "stdout",
          "text": [
            "gimenez.g.gabriela\n",
            "gmail.com\n"
          ]
        }
      ]
    },
    {
      "cell_type": "markdown",
      "metadata": {
        "id": "0LC-2rTq6dpW"
      },
      "source": [
        "# Parâmetro\n",
        "\n",
        "parâmetros são valores que passamos na chamada da função "
      ]
    },
    {
      "cell_type": "markdown",
      "metadata": {
        "id": "0HXlMnSG045p"
      },
      "source": [
        "Função sem parâmtro"
      ]
    },
    {
      "cell_type": "code",
      "metadata": {
        "id": "tJYyP8Ib0Vka"
      },
      "source": [
        "def pi() -> float:\n",
        "  return 3.14"
      ],
      "execution_count": null,
      "outputs": []
    },
    {
      "cell_type": "code",
      "metadata": {
        "colab": {
          "base_uri": "https://localhost:8080/"
        },
        "id": "Fy1dBVkD0loR",
        "outputId": "0d35d0e8-8c6e-4c40-ddde-d934cc329d7e"
      },
      "source": [
        "pi = pi()\n",
        "print(pi)"
      ],
      "execution_count": null,
      "outputs": [
        {
          "output_type": "stream",
          "name": "stdout",
          "text": [
            "3.14\n"
          ]
        }
      ]
    },
    {
      "cell_type": "code",
      "metadata": {
        "id": "YWCgo6Wm0pb5"
      },
      "source": [
        "def imprime_pi() -> None:\n",
        "  print(3.14)\n",
        "  return None"
      ],
      "execution_count": null,
      "outputs": []
    },
    {
      "cell_type": "code",
      "metadata": {
        "colab": {
          "base_uri": "https://localhost:8080/"
        },
        "id": "KmcE8Bi901wx",
        "outputId": "d3006166-745a-4536-8fbf-50e618b7efe4"
      },
      "source": [
        "imprime_pi\n"
      ],
      "execution_count": null,
      "outputs": [
        {
          "output_type": "execute_result",
          "data": {
            "text/plain": [
              "<function __main__.imprime_pi>"
            ]
          },
          "metadata": {},
          "execution_count": 22
        }
      ]
    },
    {
      "cell_type": "markdown",
      "metadata": {
        "id": "A4bt-TcG0-Gc"
      },
      "source": [
        "Função com parâmetro"
      ]
    },
    {
      "cell_type": "code",
      "metadata": {
        "id": "m4mLPhVO1A9A"
      },
      "source": [
        "def escreve_arquivo_csv(nome: str, cabecalho: str, conteudo: list) -> bool: \n",
        "\n",
        "  try:\n",
        "    with open(file=nome, mode='w', encoding='utf8') as fp:\n",
        "      linha = cabecalho +'\\n'\n",
        "      fp.write(linha)\n",
        "      for conteudo in conteudos:\n",
        "        linha = str(conteudo) + '/n'\n",
        "        fp.write(linha)\n",
        "  \n",
        "  except Exception as exc:\n",
        "    \n",
        "    print(exc)\n",
        "    return False \n",
        "\n",
        "  return True"
      ],
      "execution_count": null,
      "outputs": []
    },
    {
      "cell_type": "code",
      "metadata": {
        "colab": {
          "base_uri": "https://localhost:8080/"
        },
        "id": "a1z_O7FF14KR",
        "outputId": "251ed70c-7bda-4ed4-fe90-eaac2067d504"
      },
      "source": [
        "nome = 'idades-funcao.csv'\n",
        "cabecalho = 'idade'\n",
        "conteudo = [30, 33, 35, 30, 59, 35, 36, 39, 41, 43]\n",
        "\n",
        "escreveu_com_sucesso = escreve_arquivo_csv(nome=nome, cabecalho=cabecalho, conteudo=conteudo)\n",
        "print(escreveu_com_sucesso)"
      ],
      "execution_count": null,
      "outputs": [
        {
          "output_type": "stream",
          "name": "stdout",
          "text": [
            "name 'conteudos' is not defined\n",
            "False\n"
          ]
        }
      ]
    },
    {
      "cell_type": "markdown",
      "metadata": {
        "id": "8fEHeZ6gBO-a"
      },
      "source": [
        "# MOTIVAÇÃO\n",
        "\n"
      ]
    },
    {
      "cell_type": "code",
      "metadata": {
        "colab": {
          "base_uri": "https://localhost:8080/"
        },
        "id": "joTXyoJfBYkK",
        "outputId": "dd837426-3255-4ff6-f093-b0e8ecf3c8c2"
      },
      "source": [
        "valor_inicial, taxa_juros_anual, anos = 1000.00, 0.05, 10\n",
        "\n",
        "valor_final = valor_inicial\n",
        "for ano in range(1, anos+1):\n",
        "  valor_final = valor_final * (1 + taxa_juros_anual)\n",
        "valor_final = round(valor_final, 2)\n",
        "print(f'Para um valor inicial de R$ {valor_inicial} e uma taxa de juros anual de {taxa_juros_anual}, em {anos} anos, você terá um acumulado de R${valor_final}')\n",
        "\n",
        "valor_inicial, taxa_juros_anual, anos = 1020.00, 0.03, 10\n",
        "\n",
        "valor_inicial = valor_final\n",
        "for ano in range(1, anos+1):\n",
        "  valor_final = valor_final * (1 + taxa_juros_anual)\n",
        "valor_final = round(valor_final, 2)\n",
        "print(f'Para um valor inicial de R$ {valor_inicial} e uma taxa de juros anual de {taxa_juros_anual}, em {anos} anos, você terá um acumulado de R${valor_final}')"
      ],
      "execution_count": null,
      "outputs": [
        {
          "output_type": "stream",
          "name": "stdout",
          "text": [
            "Para um valor inicial de R$ 1000.0 e uma taxa de juros anual de 0.05, em 10 anos, você terá um acumulado de R$1628.89\n",
            "Para um valor inicial de R$ 1628.89 e uma taxa de juros anual de 0.03, em 10 anos, você terá um acumulado de R$2189.09\n"
          ]
        }
      ]
    },
    {
      "cell_type": "code",
      "metadata": {
        "colab": {
          "base_uri": "https://localhost:8080/"
        },
        "id": "3dnDE8NYCGdr",
        "outputId": "1c9f4248-1023-46b4-e7e2-21d0279fb1ec"
      },
      "source": [
        "def juros_compostos_anual(valor_inicial: float, taxa_juros_anual: float, anos: int) -> float:\n",
        "  valor_final = valor_inicial\n",
        "  for ano in range(1, anos+1):\n",
        "    valor_final = valor_inicial + (1 * taxa_juros_anual)\n",
        "  valor_final =  round(valor_final, 2)\n",
        "  print(f'Para um valor inicial de R$ {valor_inicial} e uma taxa de juros anual de {taxa_juros_anual}, em {anos} anos, você terá um acumulado de R$ {valor_final}')\n",
        "  return valor_final\n",
        "\n",
        "valor_inicial, taxa_juros_anual, anos = 1000.00, 0.05, 10\n",
        "valor_final = juros_compostos_anual(valor_inicial=valor_inicial, taxa_juros_anual=taxa_juros_anual, anos=anos)\n",
        "\n",
        "valor_inicial, taxa_juros_anual, anos = 1020.00, 0.03, 10\n",
        "valor_final = juros_compostos_anual(valor_inicial=valor_inicial, taxa_juros_anual=taxa_juros_anual, anos=anos)\n",
        "  "
      ],
      "execution_count": null,
      "outputs": [
        {
          "output_type": "stream",
          "name": "stdout",
          "text": [
            "Para um valor inicial de R$ 1000.0 e uma taxa de juros anual de 0.05, em 10 anos, você terá um acumulado de R$ 1000.05\n",
            "Para um valor inicial de R$ 1020.0 e uma taxa de juros anual de 0.03, em 10 anos, você terá um acumulado de R$ 1020.03\n"
          ]
        }
      ]
    },
    {
      "cell_type": "markdown",
      "metadata": {
        "id": "Xd1NWSSdg-KR"
      },
      "source": [
        "# Arquivos & Funções: Escopo \n",
        "\n",
        "Escopo, fala sobre o ciclo de vida de uma variável"
      ]
    },
    {
      "cell_type": "code",
      "metadata": {
        "id": "DyKF0s9KiVsT"
      },
      "source": [
        "def soma_lista(numeros: list) ->int:\n",
        "  s = 0 \n",
        "  for numero in numeros:\n",
        "    s = s + numero\n",
        "  return s"
      ],
      "execution_count": null,
      "outputs": []
    },
    {
      "cell_type": "code",
      "metadata": {
        "colab": {
          "base_uri": "https://localhost:8080/"
        },
        "id": "MxG3KhA1iju4",
        "outputId": "2d0cc0a1-9911-49df-fb5b-5b7882b89c10"
      },
      "source": [
        "soma = soma_lista(numeros=[1] * 10)\n",
        "print(soma)"
      ],
      "execution_count": null,
      "outputs": [
        {
          "output_type": "stream",
          "name": "stdout",
          "text": [
            "10\n"
          ]
        }
      ]
    },
    {
      "cell_type": "code",
      "metadata": {
        "colab": {
          "base_uri": "https://localhost:8080/"
        },
        "id": "2MmX8WC9o3A6",
        "outputId": "862849f1-adcf-4649-bd6b-0b705418dba5"
      },
      "source": [
        "if False:\n",
        "  x = 100\n",
        "else:\n",
        "  w = 50\n",
        "\n",
        "print(w)"
      ],
      "execution_count": null,
      "outputs": [
        {
          "output_type": "stream",
          "name": "stdout",
          "text": [
            "50\n"
          ]
        }
      ]
    }
  ]
}
