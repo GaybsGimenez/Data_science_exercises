{
  "nbformat": 4,
  "nbformat_minor": 0,
  "metadata": {
    "colab": {
      "name": "Exercicios_mod_1.ipynb",
      "provenance": [],
      "authorship_tag": "ABX9TyMMGdFXYUzqbMHitYYwNzp7",
      "include_colab_link": true
    },
    "kernelspec": {
      "name": "python3",
      "display_name": "Python 3"
    },
    "language_info": {
      "name": "python"
    }
  },
  "cells": [
    {
      "cell_type": "markdown",
      "metadata": {
        "id": "view-in-github",
        "colab_type": "text"
      },
      "source": [
        "<a href=\"https://colab.research.google.com/github/GaybsGimenez/Dat_science_exercises/blob/main/Exercicios_mod_1.ipynb\" target=\"_parent\"><img src=\"https://colab.research.google.com/assets/colab-badge.svg\" alt=\"Open In Colab\"/></a>"
      ]
    },
    {
      "cell_type": "markdown",
      "metadata": {
        "id": "rasADs7vn0Ab"
      },
      "source": [
        "Exercícios\n",
        "1. Google Colab\n",
        "Crie uma célula de código que escreva o texto \"Olá mundo!\", utilize o comando print .\n",
        "Crie uma célua de texto e adicione uma imagem."
      ]
    },
    {
      "cell_type": "code",
      "metadata": {
        "colab": {
          "base_uri": "https://localhost:8080/"
        },
        "id": "ghjlcwUxnFzp",
        "outputId": "9f2f2866-51e7-49f5-a0b3-939e0d99e6e3"
      },
      "source": [
        "print(\"olá, mundo!\")"
      ],
      "execution_count": null,
      "outputs": [
        {
          "output_type": "stream",
          "name": "stdout",
          "text": [
            "olá, mundo!\n"
          ]
        }
      ]
    },
    {
      "cell_type": "markdown",
      "metadata": {
        "id": "TVDwYAxZoFrK"
      },
      "source": [
        "2. Números\n",
        "Preencha as células de código para preencher os valores de (A), (B) e (C) na tabela de ticket\n",
        "médio abaixo:\n",
        "Dia Valor Total Vendas Qtd Total Vendas Ticket Medio\n",
        "19/01 (A) 3 320.52\n",
        "20/01 834.47 (B) 119.21\n",
        "23/01 15378.12 5 (C)"
      ]
    },
    {
      "cell_type": "code",
      "metadata": {
        "colab": {
          "base_uri": "https://localhost:8080/"
        },
        "id": "ujWRJ5NmoIP5",
        "outputId": "4a3eb8bc-6ab6-47cf-f29f-1706bb1d595d"
      },
      "source": [
        "#(A) \n",
        "qte_total_vendas = 3\n",
        "ticket_medio = 320.52\n",
        "\n",
        "valor_total_vendas = qte_total_vendas * ticket_medio\n",
        "print(valor_total_vendas)"
      ],
      "execution_count": null,
      "outputs": [
        {
          "output_type": "stream",
          "name": "stdout",
          "text": [
            "961.56\n"
          ]
        }
      ]
    },
    {
      "cell_type": "code",
      "metadata": {
        "colab": {
          "base_uri": "https://localhost:8080/"
        },
        "id": "IVwHms_PxQsQ",
        "outputId": "8a3f7e35-f586-4685-b643-00208a7d42fc"
      },
      "source": [
        "#(B) \n",
        "valor_total_vendas = 834.47\n",
        "ticket_medio = 119.21\n",
        "\n",
        "qte_total_vendas = valor_total_vendas/ticket_medio\n",
        "print(qte_total_vendas)\n"
      ],
      "execution_count": null,
      "outputs": [
        {
          "output_type": "stream",
          "name": "stdout",
          "text": [
            "7.000000000000001\n"
          ]
        }
      ]
    },
    {
      "cell_type": "code",
      "metadata": {
        "colab": {
          "base_uri": "https://localhost:8080/"
        },
        "id": "8kMqo39Jx7GV",
        "outputId": "33330088-2014-4569-90e8-9e0a00ef549d"
      },
      "source": [
        "#(C)\n",
        "valor_total_vendas = 15378.12\n",
        "qte_total_vendas = 3\n",
        "\n",
        "ticket_medio = valor_total_vendas/qte_total_vendas\n",
        "print(ticket_medio)"
      ],
      "execution_count": null,
      "outputs": [
        {
          "output_type": "stream",
          "name": "stdout",
          "text": [
            "5126.04\n"
          ]
        }
      ]
    },
    {
      "cell_type": "markdown",
      "metadata": {
        "id": "FIhx0-c3yR_6"
      },
      "source": [
        "3. Strings\n",
        "Aplique três métodos distintos na string abaixo, você pode conferir alguns métodos neste link\n"
      ]
    },
    {
      "cell_type": "code",
      "metadata": {
        "colab": {
          "base_uri": "https://localhost:8080/"
        },
        "id": "54vBe7npyRDh",
        "outputId": "fb9ecaac-37e8-48e9-f07c-9da6ae992eeb"
      },
      "source": [
        "cancao = 'Roda mundo, roda gigante, roda moinho, roda pião.'\n",
        "x = cancao.isalpha()\n",
        "\n",
        "print(x)\n",
        "\n",
        "y = cancao.lower()\n",
        "\n",
        "print(x)\n",
        "\n",
        "z = cancao.title()\n",
        "\n",
        "print(x)"
      ],
      "execution_count": null,
      "outputs": [
        {
          "output_type": "stream",
          "name": "stdout",
          "text": [
            "False\n",
            "False\n",
            "False\n"
          ]
        }
      ]
    },
    {
      "cell_type": "code",
      "metadata": {
        "id": "L3Vu0Ayi5udp",
        "colab": {
          "base_uri": "https://localhost:8080/"
        },
        "outputId": "e6ceacb0-65ed-4762-c5de-2c43b2348dec"
      },
      "source": [
        "noticia = 'Selic vai a 2,75% e supera expectativas; é a primeira altaem 6 anos.'\n",
        "len(noticia)\n",
        "#68\n",
        "\n",
        "\n",
        "selic = noticia[0:16]\n",
        "print(selic)\n",
        "\n",
        "ano = noticia[61:68]\n",
        "print(ano)"
      ],
      "execution_count": null,
      "outputs": [
        {
          "output_type": "stream",
          "name": "stdout",
          "text": [
            "Selic vai a 2,75\n",
            "6 anos.\n"
          ]
        }
      ]
    },
    {
      "cell_type": "markdown",
      "metadata": {
        "id": "gVPmWjqwKZqg"
      },
      "source": [
        "4 BOOLEANOS\n",
        "utilize a tabela verdade para responder: qual a variavel de x?"
      ]
    },
    {
      "cell_type": "code",
      "metadata": {
        "colab": {
          "base_uri": "https://localhost:8080/"
        },
        "id": "cqljAk6AKjHP",
        "outputId": "3d63092c-2d0f-48ee-ed6a-c06b23503cc7"
      },
      "source": [
        "a = False\n",
        "b = True\n",
        "\n",
        "x = not a & b \n",
        "print(x)"
      ],
      "execution_count": null,
      "outputs": [
        {
          "output_type": "stream",
          "name": "stdout",
          "text": [
            "True\n"
          ]
        }
      ]
    }
  ]
}