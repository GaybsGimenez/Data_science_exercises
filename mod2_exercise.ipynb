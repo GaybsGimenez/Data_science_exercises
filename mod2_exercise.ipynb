{
  "nbformat": 4,
  "nbformat_minor": 0,
  "metadata": {
    "colab": {
      "name": "modulo2_EBAC.pynb",
      "provenance": []
    },
    "kernelspec": {
      "name": "python3",
      "display_name": "Python 3"
    },
    "language_info": {
      "name": "python"
    }
  },
  "cells": [
    {
      "cell_type": "markdown",
      "metadata": {
        "id": "r2fmlcex11vc"
      },
      "source": [
        "1. LISTAS\n",
        "crie uma lista chamada filmes com o nome dos 10 primeiros filmes mais bem avaliados no site IMDB. imprima o resultado"
      ]
    },
    {
      "cell_type": "code",
      "metadata": {
        "colab": {
          "base_uri": "https://localhost:8080/"
        },
        "id": "-5d3vNO91v64",
        "outputId": "44f28cee-a0da-4221-fe9d-5bcb787b0ee1"
      },
      "source": [
        "filmes = ['The Last Duel (2021)', 'Halloween Kills (2021)', 'Bergman Island (2021)', 'Needle in a Timestack (2021)', 'Monster Family 2 (2021)', 'Hard Luck Love Song (2020)', 'Dune (2021)', 'The French Dispatch (2021)', 'Rons Gone Wrong (2021)', 'Warning (2021)']\n",
        "\n",
        "print(filmes)"
      ],
      "execution_count": 1,
      "outputs": [
        {
          "output_type": "stream",
          "name": "stdout",
          "text": [
            "['The Last Duel (2021)', 'Halloween Kills (2021)', 'Bergman Island (2021)', 'Needle in a Timestack (2021)', 'Monster Family 2 (2021)', 'Hard Luck Love Song (2020)', 'Dune (2021)', 'The French Dispatch (2021)', 'Rons Gone Wrong (2021)', 'Warning (2021)']\n"
          ]
        }
      ]
    },
    {
      "cell_type": "markdown",
      "metadata": {
        "id": "ZGFJmKeb3pTa"
      },
      "source": [
        "2. CONJUNTOS Aconteceu um erro no seu hacking. Simule a duplicação dos três últimos filmes da lista. Imprima o resultado. "
      ]
    },
    {
      "cell_type": "code",
      "metadata": {
        "id": "3brnAuAq3-x2",
        "colab": {
          "base_uri": "https://localhost:8080/"
        },
        "outputId": "d3ce84d4-2394-4ab8-cb19-fde431e7de6e"
      },
      "source": [
        "filmes = ['The Last Duel (2021)', 'Halloween Kills (2021)', 'Bergman Island (2021)', 'Needle in a Timestack (2021)', 'Monster Family 2 (2021)', 'Hard Luck Love Song (2020)', 'Dune (2021)', 'The French Dispatch (2021)', 'Rons Gone Wrong (2021)', 'Warning (2021)', 'The French Dispatch (2021)', 'Rons Gone Wrong (2021)', 'Warning (2021)']\n",
        "print(type(filmes))\n",
        "print(len(filmes))\n",
        "\n",
        "print(type(set(filmes)))\n",
        "print(len(set(filmes)))\n",
        "\n",
        "\n",
        "\n",
        "\n",
        "\n"
      ],
      "execution_count": 2,
      "outputs": [
        {
          "output_type": "stream",
          "name": "stdout",
          "text": [
            "<class 'list'>\n",
            "13\n",
            "<class 'set'>\n",
            "10\n"
          ]
        }
      ]
    },
    {
      "cell_type": "markdown",
      "metadata": {
        "id": "vgh2mcKpZy_c"
      },
      "source": [
        "3. DICIONÁRIO Repita os exercicios da parte 1 (listas). Os elementos da lista FILMES devem ser dicionários no seguinte formato: {'nome': nome-do-filme>, 'ano': ano-do-filme>, 'sinopse': sinopse-do-filme>."
      ]
    },
    {
      "cell_type": "code",
      "metadata": {
        "colab": {
          "base_uri": "https://localhost:8080/"
        },
        "id": "7ai7qSwzhnwe",
        "outputId": "b51967d3-154b-4cdf-981f-7547842afcce"
      },
      "source": [
        "filmes = {\n",
        "    'filme1':{\n",
        "        'nome':'The Last Duel',\n",
        "        'ano': 2021,\n",
        "        'sinopse': 'blablabla_the last duel'  \n",
        "    },\n",
        "    'filme2':{\n",
        "        'nome':'Bergman Island',\n",
        "        'ano': 2021, \n",
        "        'sinopse': 'blablabla_bergma island'\n",
        "    },\n",
        "    'filme3':{\n",
        "        'nome': 'Needle in a Timestack',\n",
        "        'ano': 2021,\n",
        "        'sinopse': 'blablabla_Needle in a Timestack'\n",
        "    },\n",
        "    'filme4':{\n",
        "      'nome': 'Monster Family 2',\n",
        "      'ano': 2021, \n",
        "      'sinopse': 'blablabla_Monster Family 2' \n",
        "    },\n",
        "    'filme5':{\n",
        "        'nome': 'Hard Luck Love Song',\n",
        "        'ano': 2020,\n",
        "        'sinopse': 'blablabla_Hard Luck Love Song'  \n",
        "    },\n",
        "    'filme6': {\n",
        "        'nome': 'Dune',\n",
        "        'ano': 2021,\n",
        "       'sinopse': 'blablabla_dune'\n",
        "    },\n",
        "    'filme7': {\n",
        "      'nome': 'The French Dispatch ',\n",
        "      'ano': 2021,\n",
        "      'sinope' : 'blablabla_The French Dispatch' \n",
        "    },\n",
        "    'filme8':{\n",
        "      'nome': 'Rons Gone Wrong',\n",
        "      'ano': 2021,\n",
        "      'sinopse': 'blablabla_Rons Gone Wrong'  \n",
        "    },\n",
        "    'filme9':{\n",
        "       'nome': 'Warning',\n",
        "       'ano': 2021,\n",
        "       'sinopse': 'blablabla_Warning'\n",
        "       \n",
        "    },\n",
        "\n",
        " \n",
        "}\n",
        "\n",
        "print(filmes)\n",
        "print(type(filmes))"
      ],
      "execution_count": 23,
      "outputs": [
        {
          "output_type": "stream",
          "name": "stdout",
          "text": [
            "{'filme1': {'nome': 'The Last Duel', 'ano': 2021, 'sinopse': 'blablabla_the last duel'}, 'filme2': {'nome': 'Bergman Island', 'ano': 2021, 'sinopse': 'blablabla_bergma island'}, 'filme3': {'nome': 'Needle in a Timestack', 'ano': 2021, 'sinopse': 'blablabla_Needle in a Timestack'}, 'filme4': {'nome': 'Monster Family 2', 'ano': 2021, 'sinopse': 'blablabla_Monster Family 2'}, 'filme5': {'nome': 'Hard Luck Love Song', 'ano': 2020, 'sinopse': 'blablabla_Hard Luck Love Song'}, 'filme6': {'nome': 'Dune', 'ano': 2021, 'sinopse': 'blablabla_dune'}, 'filme7': {'nome': 'The French Dispatch ', 'ano': 2021, 'sinope': 'blablabla_The French Dispatch'}, 'filme8': {'nome': 'Rons Gone Wrong', 'ano': 2021, 'sinopse': 'blablabla_Rons Gone Wrong'}, 'filme9': {'nome': 'Warning', 'ano': 2021, 'sinopse': 'blablabla_Warning'}}\n",
            "<class 'dict'>\n"
          ]
        }
      ]
    }
  ]
}
